{
  "nbformat": 4,
  "nbformat_minor": 0,
  "metadata": {
    "colab": {
      "provenance": []
    },
    "kernelspec": {
      "name": "python3",
      "display_name": "Python 3"
    },
    "language_info": {
      "name": "python"
    }
  },
  "cells": [
    {
      "cell_type": "markdown",
      "source": [
        "## Sigma (Penjumlahan)"
      ],
      "metadata": {
        "id": "21gFPLC9xxef"
      }
    },
    {
      "cell_type": "markdown",
      "source": [
        "$$\n",
        "\\sum_{i=1}^{100} 2^{2i+1}.\n",
        "$$"
      ],
      "metadata": {
        "id": "14rItrYJxWUa"
      }
    },
    {
      "cell_type": "code",
      "execution_count": 12,
      "metadata": {
        "colab": {
          "base_uri": "https://localhost:8080/"
        },
        "id": "4DofVgNxwoSE",
        "outputId": "a29453dc-6194-4b51-fb6b-293bbf2f9679"
      },
      "outputs": [
        {
          "output_type": "stream",
          "name": "stdout",
          "text": [
            "Hasilnya =  10200\n"
          ]
        }
      ],
      "source": [
        "a = 0\n",
        "\n",
        "for i in range(1,101):\n",
        "    a = a + (2^2*i+1)\n",
        "\n",
        "print(\"Hasilnya = \", a)"
      ]
    },
    {
      "cell_type": "markdown",
      "source": [
        "## Pi (Perkalian)"
      ],
      "metadata": {
        "id": "qad74g-bx4FV"
      }
    },
    {
      "cell_type": "markdown",
      "source": [
        "$$\n",
        "\\prod_{j=1}^{50} 2j+2.\n",
        "$$"
      ],
      "metadata": {
        "id": "d1VBUaacxjC3"
      }
    },
    {
      "cell_type": "code",
      "source": [
        "hasil = 1\n",
        "for j in range(1, 51+1):\n",
        "    hasil = hasil * abs(2*j+2)\n",
        "\n",
        "print(\"Hasil = \", hasil)"
      ],
      "metadata": {
        "colab": {
          "base_uri": "https://localhost:8080/"
        },
        "id": "fWLOkI5rxlto",
        "outputId": "0ea7c11f-d220-4531-f20c-77eb365eabf0"
      },
      "execution_count": 13,
      "outputs": [
        {
          "output_type": "stream",
          "name": "stdout",
          "text": [
            "Hasil =  181626063822123522020699080076184218412029452484926630583264631274340352000000000000\n"
          ]
        }
      ]
    },
    {
      "cell_type": "markdown",
      "source": [
        "## Faktorial"
      ],
      "metadata": {
        "id": "TbKkQqlIyZ7k"
      }
    },
    {
      "cell_type": "markdown",
      "source": [
        "$$\n",
        "10!\n",
        "$$"
      ],
      "metadata": {
        "id": "hhvjfKxRyell"
      }
    },
    {
      "cell_type": "code",
      "source": [
        "def faktorial(n):\n",
        "    a=1\n",
        "    for i in range(1,n+1):\n",
        "        a = a*i\n",
        "    return(a)\n",
        "faktorial(10)"
      ],
      "metadata": {
        "colab": {
          "base_uri": "https://localhost:8080/"
        },
        "id": "DeH0TWulyRWv",
        "outputId": "4d1e2921-8aa6-4585-de98-4aa3c6dca12f"
      },
      "execution_count": 14,
      "outputs": [
        {
          "output_type": "execute_result",
          "data": {
            "text/plain": [
              "3628800"
            ]
          },
          "metadata": {},
          "execution_count": 14
        }
      ]
    },
    {
      "cell_type": "markdown",
      "source": [
        "## Absolute"
      ],
      "metadata": {
        "id": "s05xDJ_Xysg8"
      }
    },
    {
      "cell_type": "markdown",
      "source": [
        "$$\n",
        "f(x) = |2x-1|,\n",
        "f(-100)=\n",
        "$$"
      ],
      "metadata": {
        "id": "-kOvYYLLyv8s"
      }
    },
    {
      "cell_type": "code",
      "source": [
        "def f(x):\n",
        "    return abs(2*x - 1)\n",
        "\n",
        "hasil = f(-100)\n",
        "print(\"Hasil = \", hasil)\n"
      ],
      "metadata": {
        "colab": {
          "base_uri": "https://localhost:8080/"
        },
        "id": "GRK5431jyvZ-",
        "outputId": "7484a758-7e21-4b26-8d85-2ceda42e69b8"
      },
      "execution_count": 10,
      "outputs": [
        {
          "output_type": "stream",
          "name": "stdout",
          "text": [
            "Hasil =  201\n"
          ]
        }
      ]
    },
    {
      "cell_type": "markdown",
      "source": [
        "## Fungsi Sepotong-sepotong (Piecewise Function)"
      ],
      "metadata": {
        "id": "YlFmYpGvy71D"
      }
    },
    {
      "cell_type": "markdown",
      "source": [
        "$$\n",
        "f(x)=\n",
        "\\begin{cases}\n",
        "x^{2} & \\text{x < 0}, \\\\\n",
        "x+2 & \\text{x >= 0}.\n",
        "\\end{cases}\n",
        "f(3)=\n",
        "$$"
      ],
      "metadata": {
        "id": "VeD0SAn6z4Z1"
      }
    },
    {
      "cell_type": "code",
      "source": [
        "def f(x):\n",
        "    if x < 0:\n",
        "        return x**2\n",
        "    else:\n",
        "        return x + 2\n",
        "\n",
        "hasil = f(3)\n",
        "print(\"Hasil = \", hasil)\n"
      ],
      "metadata": {
        "colab": {
          "base_uri": "https://localhost:8080/"
        },
        "id": "nlS6tk10y7EO",
        "outputId": "145f941f-fe73-400a-8212-712fd50a1d1f"
      },
      "execution_count": 15,
      "outputs": [
        {
          "output_type": "stream",
          "name": "stdout",
          "text": [
            "Hasil =  5\n"
          ]
        }
      ]
    },
    {
      "cell_type": "markdown",
      "source": [
        "## Matrix"
      ],
      "metadata": {
        "id": "fo-Ei71x0Dsj"
      }
    },
    {
      "cell_type": "markdown",
      "source": [
        "\n",
        "$$\n",
        "\\begin{bmatrix}\n",
        "2 & 3 \\\\\n",
        "1 & 5\n",
        "\\end{bmatrix}\n",
        "*\n",
        "\\begin{bmatrix}\n",
        "7 & 0.5 \\\\\n",
        "4 & 0\n",
        "\\end{bmatrix}\n",
        "$$"
      ],
      "metadata": {
        "id": "y_CQ6XQV0HmB"
      }
    },
    {
      "cell_type": "code",
      "source": [
        "import numpy as np\n",
        "\n",
        "# Matriks pertama\n",
        "matrix_pertama = np.array([[2, 3],\n",
        "                    [1, 5]])\n",
        "\n",
        "# Matriks kedua\n",
        "matrix_kedua = np.array([[7, 0.5],\n",
        "                    [4, 0]])\n",
        "\n",
        "# Hasil perkalian matriks\n",
        "hasil_matrix = np.dot(matrix_pertama, matrix_kedua)\n",
        "\n",
        "print(hasil_matrix)\n"
      ],
      "metadata": {
        "colab": {
          "base_uri": "https://localhost:8080/"
        },
        "id": "MsZmY4UK0HGD",
        "outputId": "be109700-fdb5-438c-a79d-3fe99eb1003b"
      },
      "execution_count": 18,
      "outputs": [
        {
          "output_type": "stream",
          "name": "stdout",
          "text": [
            "[[26.   1. ]\n",
            " [27.   0.5]]\n"
          ]
        }
      ]
    },
    {
      "cell_type": "code",
      "source": [],
      "metadata": {
        "id": "-K83dAu90ZPL"
      },
      "execution_count": null,
      "outputs": []
    }
  ]
}